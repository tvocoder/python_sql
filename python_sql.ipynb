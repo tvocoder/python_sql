{
 "cells": [
  {
   "cell_type": "markdown",
   "metadata": {},
   "source": [
    "## References\n",
    "[datacamp](https://www.datacamp.com/community/tutorials/mysql-python/) \n",
    "\n",
    "[w3schools.com](https://w3schools.com/)"
   ]
  },
  {
   "cell_type": "markdown",
   "metadata": {},
   "source": [
    "Import module `mysql.connector`"
   ]
  },
  {
   "cell_type": "code",
   "execution_count": 1,
   "metadata": {},
   "outputs": [],
   "source": [
    "import mysql.connector as mysql"
   ]
  },
  {
   "cell_type": "markdown",
   "metadata": {},
   "source": [
    "## Create Connection to Database\n",
    "- Use username and password from MySQL Database"
   ]
  },
  {
   "cell_type": "code",
   "execution_count": 3,
   "metadata": {},
   "outputs": [
    {
     "name": "stdout",
     "output_type": "stream",
     "text": [
      "<mysql.connector.connection.MySQLConnection object at 0x058978F8>\n"
     ]
    }
   ],
   "source": [
    "db_obj = mysql.connect (\n",
    "    host = \"localhost\",\n",
    "    user = \"root\",\n",
    "    password = \"password\"\n",
    ")\n",
    "\n",
    "print(db_obj)"
   ]
  },
  {
   "cell_type": "markdown",
   "metadata": {},
   "source": [
    "## Cursor\n",
    "- Allows the rows of a query result to be accessed one at a time.\n",
    "- Must be declared and opened before use.\n",
    "- Must be closed to deativate it after it is no longer required.\n",
    "- Updating rows through a cursor"
   ]
  },
  {
   "cell_type": "markdown",
   "metadata": {},
   "source": [
    "## .cursor()\n",
    "- Creating an instance of `cursor` class which is used to execute the `SQL` statements in `Python`"
   ]
  },
  {
   "cell_type": "code",
   "execution_count": 4,
   "metadata": {},
   "outputs": [],
   "source": [
    "cursor = db_obj.cursor()"
   ]
  },
  {
   "cell_type": "markdown",
   "metadata": {},
   "source": [
    "## .execute()\n",
    "- Creating a database called `uhd_db_project`\n",
    "- `execute()` method is used to *compile* a `SQL` statement"
   ]
  },
  {
   "cell_type": "code",
   "execution_count": 5,
   "metadata": {},
   "outputs": [],
   "source": [
    "cursor.execute(\"CREATE DATABASE uhd_db_test\")"
   ]
  },
  {
   "cell_type": "markdown",
   "metadata": {},
   "source": [
    "## .fetchall() method\n",
    "- returns a list of all databases present"
   ]
  },
  {
   "cell_type": "code",
   "execution_count": 13,
   "metadata": {},
   "outputs": [],
   "source": [
    "cursor.execute(\"SHOW DATABASES\")\n",
    "\n",
    "databases = cursor.fetchall()"
   ]
  },
  {
   "cell_type": "markdown",
   "metadata": {},
   "source": [
    "## Show one by one database"
   ]
  },
  {
   "cell_type": "code",
   "execution_count": 14,
   "metadata": {},
   "outputs": [
    {
     "name": "stdout",
     "output_type": "stream",
     "text": [
      "('cr_debug',)\n",
      "('database_project',)\n",
      "('information_schema',)\n",
      "('mysql',)\n",
      "('performance_schema',)\n",
      "('rate_my_professor',)\n",
      "('sakila',)\n",
      "('sys',)\n",
      "('uhd',)\n",
      "('uhd_db_project',)\n",
      "('uhd_db_test',)\n",
      "('world',)\n"
     ]
    }
   ],
   "source": [
    "for database in databases:\n",
    "    print(database)"
   ]
  },
  {
   "cell_type": "markdown",
   "metadata": {},
   "source": [
    "## Creating Tables\n",
    "- Select database"
   ]
  },
  {
   "cell_type": "code",
   "execution_count": 15,
   "metadata": {},
   "outputs": [],
   "source": [
    "db = mysql.connect (\n",
    "    host = \"localhost\",\n",
    "    user = \"root\",\n",
    "    password = \"password\",\n",
    "    database = \"uhd_db_test\"\n",
    ")"
   ]
  },
  {
   "cell_type": "markdown",
   "metadata": {},
   "source": [
    "```MySQL\n",
    "CREATE TABLE faculty (\n",
    "\tstaff_id int AUTO_INCREMENT,\n",
    "    # attributes\n",
    "    fName varchar(50) NOT NULL,\n",
    "    lName varchar(50) NOT NULL,\n",
    "    # references\n",
    "    info_id int,\n",
    "    profile_id int,\n",
    "    department_id int,\n",
    "    college_id int,\n",
    "    course_id int,\n",
    "    # unique key(s)\n",
    "    CONSTRAINT UC_staff_member UNIQUE(staff_id, fName, lName),\n",
    "    # foreign key(s)\n",
    "    FOREIGN KEY(info_id) REFERENCES staff_info(info_id),\n",
    "    FOREIGN KEY(profile_id) REFERENCES staff_profile(profile_id),\n",
    "    FOREIGN KEY(department_id) REFERENCES departments(department_id),\n",
    "    FOREIGN KEY(college_id) REFERENCES colleges(college_id),\n",
    "    # primary key\n",
    "    PRIMARY KEY(staff_id)\n",
    ");\n",
    "```"
   ]
  },
  {
   "cell_type": "code",
   "execution_count": 16,
   "metadata": {},
   "outputs": [],
   "source": [
    "cursor = db.cursor()"
   ]
  },
  {
   "cell_type": "code",
   "execution_count": 17,
   "metadata": {},
   "outputs": [],
   "source": [
    "cursor.execute(\"CREATE TABLE faculty (staff_id INT NOT NULL AUTO_INCREMENT, PRIMARY KEY(staff_id))\")"
   ]
  },
  {
   "cell_type": "code",
   "execution_count": 18,
   "metadata": {},
   "outputs": [],
   "source": [
    "cursor.execute(\"ALTER TABLE faculty ADD fName VARCHAR(50) NOT NULL, ADD lName VARCHAR(50) NOT NULL\")"
   ]
  },
  {
   "cell_type": "code",
   "execution_count": 19,
   "metadata": {},
   "outputs": [],
   "source": [
    "cursor.execute(\"ALTER TABLE faculty ADD info_id int, ADD profile_id int, ADD department_id int\")"
   ]
  },
  {
   "cell_type": "code",
   "execution_count": null,
   "metadata": {},
   "outputs": [],
   "source": [
    "cursor.execute(\"ALTER TABLE faculty ADD college_id int, ADD department_id int\")"
   ]
  },
  {
   "cell_type": "code",
   "execution_count": 23,
   "metadata": {},
   "outputs": [],
   "source": [
    "cursor.execute(\"ALTER TABLE faculty ADD course_id int\")"
   ]
  },
  {
   "cell_type": "markdown",
   "metadata": {},
   "source": [
    "## Adding Foreign Keys"
   ]
  },
  {
   "cell_type": "code",
   "execution_count": null,
   "metadata": {},
   "outputs": [],
   "source": []
  },
  {
   "cell_type": "code",
   "execution_count": 24,
   "metadata": {},
   "outputs": [],
   "source": [
    "# getting all the tables which are present in database\n",
    "\n",
    "cursor.execute(\"SHOW TABLES\")\n",
    "\n",
    "# returns list of tables present in the database\n",
    "\n",
    "tables = cursor.fetchall() "
   ]
  },
  {
   "cell_type": "code",
   "execution_count": 25,
   "metadata": {},
   "outputs": [
    {
     "name": "stdout",
     "output_type": "stream",
     "text": [
      "('faculty',)\n"
     ]
    }
   ],
   "source": [
    "for table in tables:\n",
    "    print(table)"
   ]
  },
  {
   "cell_type": "code",
   "execution_count": 29,
   "metadata": {},
   "outputs": [],
   "source": [
    "cursor.execute(\"SHOW COLUMNS FROM faculty IN uhd_db_project\")\n",
    "\n",
    "columns = cursor.fetchall()"
   ]
  },
  {
   "cell_type": "code",
   "execution_count": 30,
   "metadata": {},
   "outputs": [
    {
     "name": "stdout",
     "output_type": "stream",
     "text": [
      "('staff_id', b'int', 'NO', 'PRI', None, 'auto_increment')\n",
      "('fName', b'varchar(50)', 'NO', '', None, '')\n",
      "('lName', b'varchar(50)', 'NO', '', None, '')\n",
      "('info_id', b'int', 'YES', '', None, '')\n",
      "('profile_id', b'int', 'YES', '', None, '')\n",
      "('department_id', b'int', 'YES', '', None, '')\n",
      "('course_id', b'int', 'YES', '', None, '')\n"
     ]
    }
   ],
   "source": [
    "for attribute in columns:\n",
    "    print(attribute)"
   ]
  },
  {
   "cell_type": "code",
   "execution_count": 36,
   "metadata": {},
   "outputs": [],
   "source": [
    "cursor.execute(\"ALTER TABLE faculty ADD CONSTRAINT UC_staff_member UNIQUE(staff_id,fName,lName);\")"
   ]
  },
  {
   "cell_type": "code",
   "execution_count": 38,
   "metadata": {},
   "outputs": [],
   "source": [
    "cursor.execute(\"SHOW COLUMNS FROM faculty IN uhd_db_project\")\n",
    "\n",
    "columns = cursor.fetchall()"
   ]
  },
  {
   "cell_type": "code",
   "execution_count": 40,
   "metadata": {},
   "outputs": [
    {
     "name": "stdout",
     "output_type": "stream",
     "text": [
      "('staff_id', b'int', 'NO', 'PRI', None, 'auto_increment')\n",
      "('fName', b'varchar(50)', 'NO', '', None, '')\n",
      "('lName', b'varchar(50)', 'NO', '', None, '')\n",
      "('info_id', b'int', 'YES', '', None, '')\n",
      "('profile_id', b'int', 'YES', '', None, '')\n",
      "('department_id', b'int', 'YES', '', None, '')\n",
      "('course_id', b'int', 'YES', '', None, '')\n"
     ]
    }
   ],
   "source": [
    "for column in columns:\n",
    "    print(column)"
   ]
  },
  {
   "cell_type": "markdown",
   "metadata": {},
   "source": [
    "```MySQL\n",
    "CREATE TABLE colleges (\n",
    "\tcollege_id int AUTO_INCREMENT,\n",
    "    # attributes\n",
    "    college_name varchar(255) NOT NULL,\n",
    "    # primary key\n",
    "    PRIMARY KEY(college_id)\n",
    ");\n",
    "```"
   ]
  },
  {
   "cell_type": "code",
   "execution_count": 41,
   "metadata": {},
   "outputs": [],
   "source": [
    "cursor.execute(\"CREATE TABLE colleges (college_id INT NOT NULL AUTO_INCREMENT, PRIMARY KEY(college_id));\")"
   ]
  },
  {
   "cell_type": "code",
   "execution_count": 46,
   "metadata": {},
   "outputs": [],
   "source": [
    "cursor.execute(\"ALTER TABLE faculty ADD college_name VARCHAR(255) NOT NULL\")"
   ]
  },
  {
   "cell_type": "code",
   "execution_count": 51,
   "metadata": {},
   "outputs": [],
   "source": [
    "cursor.execute(\"ALTER TABLE faculty DROP college_name;\") # mistake"
   ]
  },
  {
   "cell_type": "code",
   "execution_count": 52,
   "metadata": {},
   "outputs": [],
   "source": [
    "cursor.execute(\"SHOW COLUMNS FROM colleges in uhd_db_project\")\n",
    "\n",
    "columns = cursor.fetchall()"
   ]
  },
  {
   "cell_type": "code",
   "execution_count": 53,
   "metadata": {},
   "outputs": [
    {
     "name": "stdout",
     "output_type": "stream",
     "text": [
      "('college_id', b'int', 'NO', 'PRI', None, 'auto_increment')\n"
     ]
    }
   ],
   "source": [
    "for column in columns:\n",
    "    print(column)"
   ]
  },
  {
   "cell_type": "code",
   "execution_count": 54,
   "metadata": {},
   "outputs": [],
   "source": [
    "cursor.execute(\"ALTER TABLE colleges ADD college_name VARCHAR(255) NOT NULL\")"
   ]
  },
  {
   "cell_type": "code",
   "execution_count": 55,
   "metadata": {},
   "outputs": [],
   "source": [
    "cursor.execute(\"SHOW COLUMNS FROM colleges IN uhd_db_project\")\n",
    "\n",
    "columns = cursor.fetchall()"
   ]
  },
  {
   "cell_type": "code",
   "execution_count": 56,
   "metadata": {},
   "outputs": [
    {
     "name": "stdout",
     "output_type": "stream",
     "text": [
      "('college_id', b'int', 'NO', 'PRI', None, 'auto_increment')\n",
      "('college_name', b'varchar(255)', 'NO', '', None, '')\n"
     ]
    }
   ],
   "source": [
    "for column in columns:\n",
    "    print(column)"
   ]
  },
  {
   "cell_type": "markdown",
   "metadata": {},
   "source": [
    "```MySQL\n",
    "CREATE TABLE departments (\n",
    "\tdepartment_id int AUTO_INCREMENT,\n",
    "    # attributes\n",
    "    department_name varchar(255) NOT NULL,\n",
    "    # references\n",
    "    college_id int,\n",
    "    # foreign key\n",
    "    FOREIGN KEY(college_id) REFERENCES colleges(college_id),\n",
    "    # primary key\n",
    "    PRIMARY KEY(department_id)\n",
    ")\n",
    "```"
   ]
  },
  {
   "cell_type": "code",
   "execution_count": 57,
   "metadata": {},
   "outputs": [],
   "source": [
    "cursor.execute(\"CREATE TABLE departments (department_id INT NOT NULL AUTO_INCREMENT, PRIMARY KEY(department_id))\")"
   ]
  },
  {
   "cell_type": "code",
   "execution_count": 58,
   "metadata": {},
   "outputs": [],
   "source": [
    "cursor.execute(\"ALTER TABLE departments ADD deparment_name VARCHAR(255) NOT NULL\")"
   ]
  },
  {
   "cell_type": "code",
   "execution_count": 59,
   "metadata": {},
   "outputs": [],
   "source": [
    "cursor.execute(\"ALTER TABLE departments ADD college_id INT\")"
   ]
  },
  {
   "cell_type": "markdown",
   "metadata": {},
   "source": [
    "## Adding Foreign Key"
   ]
  },
  {
   "cell_type": "code",
   "execution_count": 60,
   "metadata": {},
   "outputs": [],
   "source": [
    "cursor.execute(\"ALTER TABLE departments ADD CONSTRAINT FOREIGN KEY(college_id) REFERENCES colleges(college_id)\")"
   ]
  },
  {
   "cell_type": "code",
   "execution_count": 64,
   "metadata": {},
   "outputs": [],
   "source": [
    "cursor.execute(\"SHOW COLUMNS FROM departments IN uhd_db_project\")\n",
    "\n",
    "columns = cursor.fetchall()"
   ]
  },
  {
   "cell_type": "code",
   "execution_count": 62,
   "metadata": {},
   "outputs": [
    {
     "name": "stdout",
     "output_type": "stream",
     "text": [
      "('department_id', b'int', 'NO', 'PRI', None, 'auto_increment')\n",
      "('deparment_name', b'varchar(255)', 'NO', '', None, '')\n",
      "('college_id', b'int', 'YES', 'MUL', None, '')\n"
     ]
    }
   ],
   "source": [
    "for column in columns:\n",
    "    print(column)"
   ]
  },
  {
   "cell_type": "markdown",
   "metadata": {},
   "source": [
    "```MySQL\n",
    "CREATE TABLE courses (\n",
    "\tcourse_id int AUTO_INCREMENT,\n",
    "    # attributes\n",
    "    term varchar(255) NOT NULL,\n",
    "    session_type varchar(255) NOT NULL,\n",
    "    subject_type varchar(255) NOT NULL,\n",
    "\tcourse_no varchar(4) NOT NULL,\n",
    "\tsection_no varchar(2) NOT NULL,\n",
    "    course_name varchar(255) NOT NULL,\n",
    "    course_career varchar(255) NOT NULL,\n",
    "    # references\n",
    "    staff_id int,\n",
    "    # foreign key(s)\n",
    "    FOREIGN KEY(staff_id) REFERENCES faculty(staff_id),\n",
    "    # primary key\n",
    "    PRIMARY KEY(course_id)\n",
    ");\n",
    "```"
   ]
  },
  {
   "cell_type": "code",
   "execution_count": 65,
   "metadata": {},
   "outputs": [],
   "source": [
    "cursor.execute(\"CREATE TABLE courses (course_id INT NOT NULL AUTO_INCREMENT, PRIMARY KEY(course_id))\")"
   ]
  },
  {
   "cell_type": "code",
   "execution_count": 66,
   "metadata": {},
   "outputs": [],
   "source": [
    "cursor.execute(\"ALTER TABLE courses ADD term VARCHAR(255) NOT NULL\")"
   ]
  },
  {
   "cell_type": "code",
   "execution_count": null,
   "metadata": {},
   "outputs": [],
   "source": [
    "cursor.execute(\"ALTER TABLE courses ADD session_type VARCHAR(255) NOT NULL\")"
   ]
  },
  {
   "cell_type": "code",
   "execution_count": null,
   "metadata": {},
   "outputs": [],
   "source": [
    "cursor.execute(\"ALTER TABLE courses ADD subject_type VARCHAR(255) NOT NULL\")"
   ]
  },
  {
   "cell_type": "code",
   "execution_count": null,
   "metadata": {},
   "outputs": [],
   "source": [
    "cursor.execute(\"ALTER TABLE courses ADD course_no VARCHAR(4) NOT NULL\")"
   ]
  },
  {
   "cell_type": "code",
   "execution_count": 73,
   "metadata": {},
   "outputs": [],
   "source": [
    "cursor.execute(\"ALTER TABLE courses ADD section_no VARCHAR(2) NOT NULL\")"
   ]
  },
  {
   "cell_type": "code",
   "execution_count": 74,
   "metadata": {},
   "outputs": [],
   "source": [
    "cursor.execute(\"ALTER TABLE courses ADD course_name VARCHAR(255) NOT NULL\")"
   ]
  },
  {
   "cell_type": "code",
   "execution_count": 75,
   "metadata": {},
   "outputs": [],
   "source": [
    "cursor.execute(\"ALTER TABLE courses ADD course_career VARCHAR(255) NOT NULL\")"
   ]
  },
  {
   "cell_type": "code",
   "execution_count": 76,
   "metadata": {},
   "outputs": [],
   "source": [
    "cursor.execute(\"ALTER TABLE courses ADD staff_id INT\")"
   ]
  },
  {
   "cell_type": "markdown",
   "metadata": {},
   "source": [
    "## Add Foreign Key"
   ]
  },
  {
   "cell_type": "code",
   "execution_count": 79,
   "metadata": {},
   "outputs": [],
   "source": [
    "cursor.execute(\"ALTER TABLE courses ADD FOREIGN KEY(staff_id) REFERENCES faculty(staff_id)\")"
   ]
  },
  {
   "cell_type": "markdown",
   "metadata": {},
   "source": [
    "```MySQL\n",
    "CREATE TABLE staff_profile (\n",
    "\tprofile_id int AUTO_INCREMENT,\n",
    "    # attributes\n",
    "    biography text NOT NULL,\n",
    "    degrees text NOT NULL,\n",
    "    courses_taught text NOT NULL,\n",
    "    qualification text NOT NULL,\n",
    "    more_info text DEFAULT NULL,\n",
    "    # references\n",
    "    # foreign key(s)\n",
    "    # primary key\n",
    "    PRIMARY KEY(profile_id)\n",
    ");\n",
    "```"
   ]
  },
  {
   "cell_type": "code",
   "execution_count": 80,
   "metadata": {},
   "outputs": [],
   "source": [
    "cursor.execute(\"CREATE TABLE staff_profile (profile_id INT NOT NULL AUTO_INCREMENT, PRIMARY KEY(profile_id))\")"
   ]
  },
  {
   "cell_type": "code",
   "execution_count": 81,
   "metadata": {},
   "outputs": [],
   "source": [
    "cursor.execute(\"ALTER TABLE staff_profile ADD biography TEXT NOT NULL\")"
   ]
  },
  {
   "cell_type": "code",
   "execution_count": 82,
   "metadata": {},
   "outputs": [],
   "source": [
    "cursor.execute(\"ALTER TABLE staff_profile ADD degrees TEXT NOT NULL\")"
   ]
  },
  {
   "cell_type": "code",
   "execution_count": 83,
   "metadata": {},
   "outputs": [],
   "source": [
    "cursor.execute(\"ALTER TABLE staff_profile ADD courses_taught TEXT NOT NULL\")"
   ]
  },
  {
   "cell_type": "code",
   "execution_count": 84,
   "metadata": {},
   "outputs": [],
   "source": [
    "cursor.execute(\"ALTER TABLE staff_profile ADD qualifications TEXT NOT NULL\")"
   ]
  },
  {
   "cell_type": "code",
   "execution_count": 85,
   "metadata": {},
   "outputs": [],
   "source": [
    "cursor.execute(\"ALTER TABLE staff_profile ADD more_info TEXT DEFAULT NULL\")"
   ]
  },
  {
   "cell_type": "code",
   "execution_count": 86,
   "metadata": {},
   "outputs": [],
   "source": [
    "cursor.execute(\"SHOW COLUMNS FROM staff_profile IN uhd_db_project\")\n",
    "\n",
    "columns = cursor.fetchall()"
   ]
  },
  {
   "cell_type": "code",
   "execution_count": 87,
   "metadata": {},
   "outputs": [
    {
     "name": "stdout",
     "output_type": "stream",
     "text": [
      "('profile_id', b'int', 'NO', 'PRI', None, 'auto_increment')\n",
      "('biography', b'text', 'NO', '', None, '')\n",
      "('degrees', b'text', 'NO', '', None, '')\n",
      "('courses_taught', b'text', 'NO', '', None, '')\n",
      "('qualifications', b'text', 'NO', '', None, '')\n",
      "('more_info', b'text', 'YES', '', None, '')\n"
     ]
    }
   ],
   "source": [
    "for column in columns:\n",
    "    print(column)"
   ]
  },
  {
   "cell_type": "markdown",
   "metadata": {},
   "source": [
    "```MySQL\n",
    "CREATE TABLE staff_info (\n",
    "\tinfo_id int AUTO_INCREMENT,\n",
    "    # attributes\n",
    "\toffice_no varchar(50) NOT NULL,\n",
    "    telephone_no varchar(50) NOT NULL,\n",
    "    email_addr varchar(50) NOT NULL,\n",
    "    website_link varchar(50) DEFAULT NULL,\n",
    "    department_char bool NOT NULL,\n",
    "    # primary key\n",
    "    PRIMARY KEY(info_id)\n",
    ");\n",
    "```"
   ]
  },
  {
   "cell_type": "code",
   "execution_count": null,
   "metadata": {
    "scrolled": true
   },
   "outputs": [],
   "source": [
    "cursor.execute(\"CREATE TABLE staff_info (info_id INT NOT NULL AUTO_INCREMENT, PRIMARY KEY(info_id))\")"
   ]
  },
  {
   "cell_type": "code",
   "execution_count": 96,
   "metadata": {},
   "outputs": [],
   "source": [
    "cursor.execute(\"ALTER TABLE staff_info ADD office_no VARCHAR(50) NOT NULL\")"
   ]
  },
  {
   "cell_type": "code",
   "execution_count": 97,
   "metadata": {},
   "outputs": [],
   "source": [
    "cursor.execute(\"ALTER TABLE staff_info ADD telephone_no VARCHAR(50) NOT NULL\")"
   ]
  },
  {
   "cell_type": "code",
   "execution_count": 98,
   "metadata": {},
   "outputs": [],
   "source": [
    "cursor.execute(\"ALTER TABLE staff_info ADD email_addr VARCHAR(50) NOT NULL\")"
   ]
  },
  {
   "cell_type": "code",
   "execution_count": 99,
   "metadata": {},
   "outputs": [],
   "source": [
    "cursor.execute(\"ALTER TABLE staff_info ADD website_link VARCHAR(50) NOT NULL\")"
   ]
  },
  {
   "cell_type": "code",
   "execution_count": 100,
   "metadata": {},
   "outputs": [],
   "source": [
    "cursor.execute(\"ALTER TABLE staff_info ADD department_chair BOOL NOT NULL\")"
   ]
  },
  {
   "cell_type": "code",
   "execution_count": 108,
   "metadata": {},
   "outputs": [],
   "source": [
    "cursor.execute(\"SHOW COLUMNS FROM staff_info IN uhd_db_project\")\n",
    "\n",
    "columns = cursor.fetchall()"
   ]
  },
  {
   "cell_type": "code",
   "execution_count": 110,
   "metadata": {},
   "outputs": [
    {
     "name": "stdout",
     "output_type": "stream",
     "text": [
      "('info_id', b'int', 'NO', 'PRI', None, 'auto_increment')\n",
      "('office_no', b'varchar(50)', 'NO', '', None, '')\n",
      "('telephone_no', b'varchar(50)', 'NO', '', None, '')\n",
      "('email_addr', b'varchar(50)', 'NO', '', None, '')\n",
      "('website_link', b'varchar(50)', 'NO', '', None, '')\n",
      "('department_chair', b'tinyint(1)', 'NO', '', None, '')\n"
     ]
    }
   ],
   "source": [
    "for column in columns:\n",
    "    print(column)"
   ]
  },
  {
   "cell_type": "markdown",
   "metadata": {},
   "source": [
    "## Adding Foreign Keys to Faculty Table"
   ]
  },
  {
   "cell_type": "code",
   "execution_count": 111,
   "metadata": {},
   "outputs": [],
   "source": [
    "cursor.execute(\"ALTER TABLE faculty ADD FOREIGN KEY(info_id) REFERENCES staff_info(info_id)\")"
   ]
  },
  {
   "cell_type": "code",
   "execution_count": 115,
   "metadata": {},
   "outputs": [],
   "source": [
    "cursor.execute(\"ALTER TABLE faculty ADD FOREIGN KEY(profile_id) REFERENCES staff_profile(profile_id)\")"
   ]
  },
  {
   "cell_type": "code",
   "execution_count": 116,
   "metadata": {},
   "outputs": [],
   "source": [
    "cursor.execute(\"ALTER TABLE faculty ADD FOREIGN KEY(department_id) REFERENCES departments(department_id)\")"
   ]
  },
  {
   "cell_type": "code",
   "execution_count": 117,
   "metadata": {},
   "outputs": [
    {
     "ename": "ProgrammingError",
     "evalue": "1072 (42000): Key column 'college_id' doesn't exist in table",
     "output_type": "error",
     "traceback": [
      "\u001b[1;31m---------------------------------------------------------------------------\u001b[0m",
      "\u001b[1;31mProgrammingError\u001b[0m                          Traceback (most recent call last)",
      "\u001b[1;32m<ipython-input-117-7cd38c54164a>\u001b[0m in \u001b[0;36m<module>\u001b[1;34m\u001b[0m\n\u001b[1;32m----> 1\u001b[1;33m \u001b[0mcursor\u001b[0m\u001b[1;33m.\u001b[0m\u001b[0mexecute\u001b[0m\u001b[1;33m(\u001b[0m\u001b[1;34m\"ALTER TABLE faculty ADD FOREIGN KEY(college_id) REFERENCES colleges(college_id)\"\u001b[0m\u001b[1;33m)\u001b[0m\u001b[1;33m\u001b[0m\u001b[1;33m\u001b[0m\u001b[0m\n\u001b[0m",
      "\u001b[1;32m~\\anaconda3\\lib\\site-packages\\mysql\\connector\\cursor.py\u001b[0m in \u001b[0;36mexecute\u001b[1;34m(self, operation, params, multi)\u001b[0m\n\u001b[0;32m    567\u001b[0m \u001b[1;33m\u001b[0m\u001b[0m\n\u001b[0;32m    568\u001b[0m         \u001b[1;32mtry\u001b[0m\u001b[1;33m:\u001b[0m\u001b[1;33m\u001b[0m\u001b[1;33m\u001b[0m\u001b[0m\n\u001b[1;32m--> 569\u001b[1;33m             \u001b[0mself\u001b[0m\u001b[1;33m.\u001b[0m\u001b[0m_handle_result\u001b[0m\u001b[1;33m(\u001b[0m\u001b[0mself\u001b[0m\u001b[1;33m.\u001b[0m\u001b[0m_connection\u001b[0m\u001b[1;33m.\u001b[0m\u001b[0mcmd_query\u001b[0m\u001b[1;33m(\u001b[0m\u001b[0mstmt\u001b[0m\u001b[1;33m)\u001b[0m\u001b[1;33m)\u001b[0m\u001b[1;33m\u001b[0m\u001b[1;33m\u001b[0m\u001b[0m\n\u001b[0m\u001b[0;32m    570\u001b[0m         \u001b[1;32mexcept\u001b[0m \u001b[0merrors\u001b[0m\u001b[1;33m.\u001b[0m\u001b[0mInterfaceError\u001b[0m\u001b[1;33m:\u001b[0m\u001b[1;33m\u001b[0m\u001b[1;33m\u001b[0m\u001b[0m\n\u001b[0;32m    571\u001b[0m             \u001b[1;32mif\u001b[0m \u001b[0mself\u001b[0m\u001b[1;33m.\u001b[0m\u001b[0m_connection\u001b[0m\u001b[1;33m.\u001b[0m\u001b[0m_have_next_result\u001b[0m\u001b[1;33m:\u001b[0m  \u001b[1;31m# pylint: disable=W0212\u001b[0m\u001b[1;33m\u001b[0m\u001b[1;33m\u001b[0m\u001b[0m\n",
      "\u001b[1;32m~\\anaconda3\\lib\\site-packages\\mysql\\connector\\connection.py\u001b[0m in \u001b[0;36mcmd_query\u001b[1;34m(self, query, raw, buffered, raw_as_string)\u001b[0m\n\u001b[0;32m    597\u001b[0m         \u001b[1;32mif\u001b[0m \u001b[1;32mnot\u001b[0m \u001b[0misinstance\u001b[0m\u001b[1;33m(\u001b[0m\u001b[0mquery\u001b[0m\u001b[1;33m,\u001b[0m \u001b[0mbytes\u001b[0m\u001b[1;33m)\u001b[0m\u001b[1;33m:\u001b[0m\u001b[1;33m\u001b[0m\u001b[1;33m\u001b[0m\u001b[0m\n\u001b[0;32m    598\u001b[0m             \u001b[0mquery\u001b[0m \u001b[1;33m=\u001b[0m \u001b[0mquery\u001b[0m\u001b[1;33m.\u001b[0m\u001b[0mencode\u001b[0m\u001b[1;33m(\u001b[0m\u001b[1;34m'utf-8'\u001b[0m\u001b[1;33m)\u001b[0m\u001b[1;33m\u001b[0m\u001b[1;33m\u001b[0m\u001b[0m\n\u001b[1;32m--> 599\u001b[1;33m         \u001b[0mresult\u001b[0m \u001b[1;33m=\u001b[0m \u001b[0mself\u001b[0m\u001b[1;33m.\u001b[0m\u001b[0m_handle_result\u001b[0m\u001b[1;33m(\u001b[0m\u001b[0mself\u001b[0m\u001b[1;33m.\u001b[0m\u001b[0m_send_cmd\u001b[0m\u001b[1;33m(\u001b[0m\u001b[0mServerCmd\u001b[0m\u001b[1;33m.\u001b[0m\u001b[0mQUERY\u001b[0m\u001b[1;33m,\u001b[0m \u001b[0mquery\u001b[0m\u001b[1;33m)\u001b[0m\u001b[1;33m)\u001b[0m\u001b[1;33m\u001b[0m\u001b[1;33m\u001b[0m\u001b[0m\n\u001b[0m\u001b[0;32m    600\u001b[0m \u001b[1;33m\u001b[0m\u001b[0m\n\u001b[0;32m    601\u001b[0m         \u001b[1;32mif\u001b[0m \u001b[0mself\u001b[0m\u001b[1;33m.\u001b[0m\u001b[0m_have_next_result\u001b[0m\u001b[1;33m:\u001b[0m\u001b[1;33m\u001b[0m\u001b[1;33m\u001b[0m\u001b[0m\n",
      "\u001b[1;32m~\\anaconda3\\lib\\site-packages\\mysql\\connector\\connection.py\u001b[0m in \u001b[0;36m_handle_result\u001b[1;34m(self, packet)\u001b[0m\n\u001b[0;32m    485\u001b[0m             \u001b[1;32mreturn\u001b[0m \u001b[0mself\u001b[0m\u001b[1;33m.\u001b[0m\u001b[0m_handle_eof\u001b[0m\u001b[1;33m(\u001b[0m\u001b[0mpacket\u001b[0m\u001b[1;33m)\u001b[0m\u001b[1;33m\u001b[0m\u001b[1;33m\u001b[0m\u001b[0m\n\u001b[0;32m    486\u001b[0m         \u001b[1;32melif\u001b[0m \u001b[0mpacket\u001b[0m\u001b[1;33m[\u001b[0m\u001b[1;36m4\u001b[0m\u001b[1;33m]\u001b[0m \u001b[1;33m==\u001b[0m \u001b[1;36m255\u001b[0m\u001b[1;33m:\u001b[0m\u001b[1;33m\u001b[0m\u001b[1;33m\u001b[0m\u001b[0m\n\u001b[1;32m--> 487\u001b[1;33m             \u001b[1;32mraise\u001b[0m \u001b[0merrors\u001b[0m\u001b[1;33m.\u001b[0m\u001b[0mget_exception\u001b[0m\u001b[1;33m(\u001b[0m\u001b[0mpacket\u001b[0m\u001b[1;33m)\u001b[0m\u001b[1;33m\u001b[0m\u001b[1;33m\u001b[0m\u001b[0m\n\u001b[0m\u001b[0;32m    488\u001b[0m \u001b[1;33m\u001b[0m\u001b[0m\n\u001b[0;32m    489\u001b[0m         \u001b[1;31m# We have a text result set\u001b[0m\u001b[1;33m\u001b[0m\u001b[1;33m\u001b[0m\u001b[1;33m\u001b[0m\u001b[0m\n",
      "\u001b[1;31mProgrammingError\u001b[0m: 1072 (42000): Key column 'college_id' doesn't exist in table"
     ]
    }
   ],
   "source": [
    "cursor.execute(\"ALTER TABLE faculty ADD FOREIGN KEY(college_id) REFERENCES colleges(college_id)\")"
   ]
  },
  {
   "cell_type": "code",
   "execution_count": 118,
   "metadata": {},
   "outputs": [],
   "source": [
    "cursor.execute(\"ALTER TABLE faculty ADD college_id INT\")"
   ]
  },
  {
   "cell_type": "code",
   "execution_count": 119,
   "metadata": {},
   "outputs": [],
   "source": [
    "cursor.execute(\"ALTER TABLE faculty ADD FOREIGN KEY(college_id) REFERENCES colleges(college_id)\")"
   ]
  },
  {
   "cell_type": "code",
   "execution_count": 120,
   "metadata": {},
   "outputs": [],
   "source": [
    "cursor.execute(\"SHOW COLUMNS FROM faculty IN uhd_db_project\")\n",
    "\n",
    "columns = cursor.fetchall()"
   ]
  },
  {
   "cell_type": "code",
   "execution_count": 121,
   "metadata": {},
   "outputs": [
    {
     "name": "stdout",
     "output_type": "stream",
     "text": [
      "('staff_id', b'int', 'NO', 'PRI', None, 'auto_increment')\n",
      "('fName', b'varchar(50)', 'NO', '', None, '')\n",
      "('lName', b'varchar(50)', 'NO', '', None, '')\n",
      "('info_id', b'int', 'YES', 'MUL', None, '')\n",
      "('profile_id', b'int', 'YES', 'MUL', None, '')\n",
      "('department_id', b'int', 'YES', 'MUL', None, '')\n",
      "('course_id', b'int', 'YES', '', None, '')\n",
      "('college_id', b'int', 'YES', 'MUL', None, '')\n"
     ]
    }
   ],
   "source": [
    "for column in columns:\n",
    "    print(column)"
   ]
  },
  {
   "cell_type": "code",
   "execution_count": 123,
   "metadata": {},
   "outputs": [],
   "source": [
    "cursor.execute(\"ALTER TABLE faculty ADD FOREIGN KEY(course_id) REFERENCES courses(course_id)\")"
   ]
  },
  {
   "cell_type": "code",
   "execution_count": 124,
   "metadata": {},
   "outputs": [],
   "source": [
    "def show_columns(table, db):\n",
    "    template = \"SHOW COLUMNS FROM {tbl} IN {database}\"\n",
    "    cursor.execute(template.format(tbl = table, database = db))\n",
    "    columns = cursor.fetchall()\n",
    "    \n",
    "    for column in columns:\n",
    "        print(column)  "
   ]
  },
  {
   "cell_type": "code",
   "execution_count": 127,
   "metadata": {},
   "outputs": [
    {
     "name": "stdout",
     "output_type": "stream",
     "text": [
      "('staff_id', b'int', 'NO', 'PRI', None, 'auto_increment')\n",
      "('fName', b'varchar(50)', 'NO', '', None, '')\n",
      "('lName', b'varchar(50)', 'NO', '', None, '')\n",
      "('info_id', b'int', 'YES', 'MUL', None, '')\n",
      "('profile_id', b'int', 'YES', 'MUL', None, '')\n",
      "('department_id', b'int', 'YES', 'MUL', None, '')\n",
      "('course_id', b'int', 'YES', 'MUL', None, '')\n",
      "('college_id', b'int', 'YES', 'MUL', None, '')\n"
     ]
    }
   ],
   "source": [
    "table = \"faculty\"\n",
    "database = \"uhd_db_project\"\n",
    "show_columns(table, database)"
   ]
  },
  {
   "cell_type": "code",
   "execution_count": null,
   "metadata": {},
   "outputs": [],
   "source": []
  }
 ],
 "metadata": {
  "kernelspec": {
   "display_name": "Python 3",
   "language": "python",
   "name": "python3"
  },
  "language_info": {
   "codemirror_mode": {
    "name": "ipython",
    "version": 3
   },
   "file_extension": ".py",
   "mimetype": "text/x-python",
   "name": "python",
   "nbconvert_exporter": "python",
   "pygments_lexer": "ipython3",
   "version": "3.8.3"
  }
 },
 "nbformat": 4,
 "nbformat_minor": 4
}
